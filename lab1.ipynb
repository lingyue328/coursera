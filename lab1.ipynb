{
  "nbformat": 4,
  "nbformat_minor": 0,
  "metadata": {
    "colab": {
      "name": "lab1.ipynb",
      "provenance": [],
      "collapsed_sections": [],
      "authorship_tag": "ABX9TyPVAbsVM0EPzkyJlcqPzTgE",
      "include_colab_link": true
    },
    "kernelspec": {
      "name": "python3",
      "display_name": "Python 3"
    },
    "accelerator": "GPU"
  },
  "cells": [
    {
      "cell_type": "markdown",
      "metadata": {
        "id": "view-in-github",
        "colab_type": "text"
      },
      "source": [
        "<a href=\"https://colab.research.google.com/github/lingyue328/coursera/blob/master/lab1.ipynb\" target=\"_parent\"><img src=\"https://colab.research.google.com/assets/colab-badge.svg\" alt=\"Open In Colab\"/></a>"
      ]
    },
    {
      "cell_type": "code",
      "metadata": {
        "id": "3Z1794rshnQS",
        "colab_type": "code",
        "colab": {}
      },
      "source": [
        "import numpy as np\n",
        "## Author: Lingyue Chu\n",
        "#initialize variables and dataset\n",
        "def init_vari():\n",
        "  w1 = np.random.rand(10, 5)*2 -1\n",
        "  w2 = np.random.rand(1, 10)*2 -1\n",
        "  b1 = np.random.rand(10, 1)*2 -1\n",
        "  b2 = np.random.rand(1, 1)*2 -1\n",
        "  return w1,w2, b1,b2\n",
        "\n",
        "def generate_trainset():\n",
        "  x = np.random.choice([1,-1], size = (5, 32))\n",
        "  x_sum = np.sum(x, axis= 0, keepdims=True)\n",
        "  y = np.zeros((1,32))\n",
        "  for i in range(32):\n",
        "    if x_sum[:,i] in [1, 5, -3] :\n",
        "      y[:,i] = 1\n",
        "    else:\n",
        "     y[:, i] = -1\n",
        "  return x,y\n",
        "\n",
        "iw1, iw2, ib1,ib2 = init_vari()\n"
      ],
      "execution_count": 0,
      "outputs": []
    },
    {
      "cell_type": "code",
      "metadata": {
        "id": "M4l8p_eBINAj",
        "colab_type": "code",
        "colab": {}
      },
      "source": [
        "def forwardprop(x):\n",
        "  m = x.shape[1]\n",
        "  z1 = np.dot(w1, x) + b1\n",
        "  a1 = np.tanh(z1)\n",
        "  z2 = np.dot(w2, a1) + b2\n",
        "  yhat = np.tanh(z2)\n",
        "  cost = np.sum(0.5* np.square(yhat - y)) / m\n",
        "  return cost, a1 ,z1, z2, yhat\n",
        "\n",
        "def backprop(x):\n",
        "  cost, a1 ,z1, z2, yhat = forwardprop(x)\n",
        "  dyhat = yhat - y            # 1 * m\n",
        "  dz2 = dyhat / np.square(np.cosh(z2))              # 1 * m\n",
        "  dw2 = np.dot(dz2, a1.T)\n",
        "  db2 = np.sum(dz2)/m\n",
        "  da1 = np.dot(w2.T, dz2)\n",
        "  dz1 = da1 / np.square(np.cosh(z1)) \n",
        "  dw1 = np.dot(dz1, x.T)\n",
        "  db1 = np.sum(dz1, axis = 1, keepdims= True)/m\n",
        "\n",
        "  return cost, dw1, dw2, db1, db2\n",
        "\n"
      ],
      "execution_count": 0,
      "outputs": []
    },
    {
      "cell_type": "code",
      "metadata": {
        "id": "vdTKcW1PKwcc",
        "colab_type": "code",
        "colab": {
          "base_uri": "https://localhost:8080/",
          "height": 185
        },
        "outputId": "909edf86-e87b-4184-e087-a9cdf10cdd04"
      },
      "source": [
        "x,y = generate_trainset()\n",
        "m = x.shape[1]\n",
        "alpha=0.8\n",
        "learn_rate = 0.005\n",
        "\n",
        "for i in range(10):\n",
        "  learning_rate = learn_rate + 0.005 * i\n",
        "  epoch = 0\n",
        "  count = 0\n",
        "  vdw2 = np.zeros(w2.shape)\n",
        "  vdb2 = np.zeros(b2.shape)\n",
        "  vdw1 = np.zeros(w1.shape)\n",
        "  vdb1 = np.zeros(b1.shape)\n",
        "  w1,w2, b1,b2 =  iw1,iw2, ib1,ib2\n",
        "  while(count < 32 ):\n",
        "    epoch = epoch + 1\n",
        "    cost, dw1, dw2, db1, db2 = backprop(x)\n",
        "    vdw2 = alpha * vdw2 + (1-alpha)*dw2\n",
        "    vdw1 = alpha * vdw1 + (1-alpha) *dw1\n",
        "    vdb2 = alpha * vdb2 + (1-alpha)* db2\n",
        "    vdb1 = alpha * vdb1 + (1-alpha)* db1\n",
        "    w2 = w2 - learning_rate*vdw2\n",
        "    w1 = w1 - learning_rate*vdw1\n",
        "    b2 = b2 - learning_rate*vdb2\n",
        "    b1 = b1 - learning_rate*vdb1\n",
        "    cost, a1 ,z1, z2, y_pred = forwardprop(x)\n",
        "    count = 0\n",
        "    for i in range(m):\n",
        "      if(abs(y_pred[0,i] - y[0,i]) < 0.1):\n",
        "        count = count + 1\n",
        "\n",
        "  print(\"Learning rate = \", learning_rate, \" Num of epoch to finish training: \", epoch)"
      ],
      "execution_count": 45,
      "outputs": [
        {
          "output_type": "stream",
          "text": [
            "Learning rate =  0.005  Num of epoch to finish training:  3127\n",
            "Learning rate =  0.01  Num of epoch to finish training:  1608\n",
            "Learning rate =  0.015  Num of epoch to finish training:  1083\n",
            "Learning rate =  0.02  Num of epoch to finish training:  816\n",
            "Learning rate =  0.025  Num of epoch to finish training:  653\n",
            "Learning rate =  0.030000000000000002  Num of epoch to finish training:  543\n",
            "Learning rate =  0.034999999999999996  Num of epoch to finish training:  463\n",
            "Learning rate =  0.04  Num of epoch to finish training:  403\n",
            "Learning rate =  0.045  Num of epoch to finish training:  356\n",
            "Learning rate =  0.049999999999999996  Num of epoch to finish training:  319\n"
          ],
          "name": "stdout"
        }
      ]
    }
  ]
}